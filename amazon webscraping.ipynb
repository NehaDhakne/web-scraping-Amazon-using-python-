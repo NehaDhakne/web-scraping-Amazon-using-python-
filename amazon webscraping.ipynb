{
 "cells": [
  {
   "cell_type": "markdown",
   "metadata": {},
   "source": [
    "1) Write a python program which searches all the product under a particular product vertical from www.amazon.in. \n",
    "\n",
    "The product verticals to be searched will be taken as input from user.\n",
    "\n",
    "For e.g. If user input is ‘guitar’. Then search for guitars.\n"
   ]
  },
  {
   "cell_type": "code",
   "execution_count": 1,
   "metadata": {},
   "outputs": [],
   "source": [
    "#importing necessary libraries\n",
    "\n",
    "import pandas as pd  #pandas are for making dataframes\n",
    "import selenium      #for automating\n",
    "from selenium import webdriver\n",
    "import time\n",
    "from selenium.common.exceptions import NoSuchElementException #for exception handling"
   ]
  },
  {
   "cell_type": "code",
   "execution_count": 2,
   "metadata": {},
   "outputs": [],
   "source": [
    "#automating the browser using webdriver\n",
    "\n",
    "driver = webdriver.Chrome(r\"C:\\Users\\91950\\Downloads\\chromedriver_win32\\chromedriver.exe\")\n",
    "driver.get(\"https://www.amazon.in/\")"
   ]
  },
  {
   "cell_type": "code",
   "execution_count": 3,
   "metadata": {},
   "outputs": [],
   "source": [
    "#searching for guitars on search page by using selenium\n",
    "\n",
    "search = driver.find_element_by_id(\"twotabsearchtextbox\")\n",
    "search.send_keys(\"Guitar\")\n",
    "\n",
    "search_btn = driver.find_element_by_id(\"nav-search-submit-button\")\n",
    "search_btn.click()\n"
   ]
  },
  {
   "cell_type": "markdown",
   "metadata": {},
   "source": [
    "2) In the above question, now scrape the following details of each product listed in first 3 pages of your search results \n",
    "\n",
    "and save it in a data frame and csv. In case if any product vertical has less than 3 pages in search results then scrape \n",
    "\n",
    "all the products available under that product vertical. Details to be scraped are: \"Brand Name\", \"Name of the Product\", \n",
    "\n",
    "\"Rating\", \"No. of Ratings\", \"Price\", \"Return/Exchange\", \"Expected Delivery\", \"Availability\", \"Other Details\" and “Product \n",
    "\n",
    "URL”. In case, if any of the details are missing for any of the product then replace it by “-“."
   ]
  },
  {
   "cell_type": "code",
   "execution_count": 4,
   "metadata": {},
   "outputs": [
    {
     "data": {
      "text/plain": [
       "67"
      ]
     },
     "execution_count": 4,
     "metadata": {},
     "output_type": "execute_result"
    }
   ],
   "source": [
    "# We have to go to each page to extract the above information\n",
    "\n",
    "urls = []\n",
    "for i in driver.find_elements_by_xpath(\"//a[@class='a-link-normal a-text-normal']\"):\n",
    "    urls.append(i.get_attribute(\"href\"))\n",
    "\n",
    "len(urls)"
   ]
  },
  {
   "cell_type": "code",
   "execution_count": 5,
   "metadata": {},
   "outputs": [
    {
     "data": {
      "text/plain": [
       "67"
      ]
     },
     "execution_count": 5,
     "metadata": {},
     "output_type": "execute_result"
    }
   ],
   "source": [
    "#applying loops\n",
    "brand_name = [] product_name = [] rating_total = [] price = []\n",
    "for i in urls:\n",
    "    driver.get(i) \n",
    "    try:\n",
    "        brand = driver.find_element_by_xpath(\"//td[@class='a-span9']/span\")\n",
    "        brand_name.append(brand.text)\n",
    "    except:\n",
    "        brand_name.append('-')         \n",
    "    try:\n",
    "        product =  driver.find_element_by_id(\"productTitle\")\n",
    "        product_name.append(product.text)\n",
    "    except:\n",
    "        product_name.append('-')   \n",
    "    try:\n",
    "        rate = driver.find_element_by_id(\"acrCustomerReviewText\")\n",
    "        rating_total.append(rate.text)\n",
    "    except:\n",
    "        rating_total.append('-')\n",
    "    try:\n",
    "        total_price = driver.find_element_by_id(\"priceblock_dealprice\")\n",
    "        price.append(total_price.text)\n",
    "    except:\n",
    "        price.append('-')       \n",
    "        \n",
    "len(brand_name)\n",
    "len(product_name)\n",
    "len(rating_total)\n",
    "len(price)\n"
   ]
  },
  {
   "cell_type": "code",
   "execution_count": 7,
   "metadata": {},
   "outputs": [
    {
     "data": {
      "text/html": [
       "<div>\n",
       "<style scoped>\n",
       "    .dataframe tbody tr th:only-of-type {\n",
       "        vertical-align: middle;\n",
       "    }\n",
       "\n",
       "    .dataframe tbody tr th {\n",
       "        vertical-align: top;\n",
       "    }\n",
       "\n",
       "    .dataframe thead th {\n",
       "        text-align: right;\n",
       "    }\n",
       "</style>\n",
       "<table border=\"1\" class=\"dataframe\">\n",
       "  <thead>\n",
       "    <tr style=\"text-align: right;\">\n",
       "      <th></th>\n",
       "      <th>Brand</th>\n",
       "      <th>Name of the product</th>\n",
       "      <th>number of ratings</th>\n",
       "      <th>price of the item</th>\n",
       "      <th>url of the page</th>\n",
       "    </tr>\n",
       "  </thead>\n",
       "  <tbody>\n",
       "    <tr>\n",
       "      <th>0</th>\n",
       "      <td>Honestum</td>\n",
       "      <td>Honestum 4-string acoustic guitar learning kid...</td>\n",
       "      <td>3 ratings</td>\n",
       "      <td>-</td>\n",
       "      <td>https://www.amazon.in/gp/slredirect/picassoRed...</td>\n",
       "    </tr>\n",
       "    <tr>\n",
       "      <th>1</th>\n",
       "      <td>Juârez</td>\n",
       "      <td>Juârez Acoustic Guitar, 38 Inch Cutaway, 038C ...</td>\n",
       "      <td>13,326 ratings</td>\n",
       "      <td>₹1,999.00</td>\n",
       "      <td>https://www.amazon.in/Juarez-Acoustic-Cutaway-...</td>\n",
       "    </tr>\n",
       "    <tr>\n",
       "      <th>2</th>\n",
       "      <td>Intern</td>\n",
       "      <td>Intern INT-38C Acoustic Guitar Kit, With Bag, ...</td>\n",
       "      <td>7,231 ratings</td>\n",
       "      <td>₹1,790.00</td>\n",
       "      <td>https://www.amazon.in/Intern-INT-38C-Acoustic-...</td>\n",
       "    </tr>\n",
       "    <tr>\n",
       "      <th>3</th>\n",
       "      <td>JUAREZ</td>\n",
       "      <td>Juarez Acoustic Guitar Kit, 38 Inch Cutaway, 3...</td>\n",
       "      <td>4,486 ratings</td>\n",
       "      <td>₹1,999.00</td>\n",
       "      <td>https://www.amazon.in/JUAREZ-JRZ38C-Acoustic-S...</td>\n",
       "    </tr>\n",
       "    <tr>\n",
       "      <th>4</th>\n",
       "      <td>Kadence</td>\n",
       "      <td>Kadence Guitar Acoustica Series, Electric Acou...</td>\n",
       "      <td>727 ratings</td>\n",
       "      <td>₹6,174.00</td>\n",
       "      <td>https://aax-eu.amazon.in/x/c/QpB_2B9ns4Txpv_GE...</td>\n",
       "    </tr>\n",
       "    <tr>\n",
       "      <th>...</th>\n",
       "      <td>...</td>\n",
       "      <td>...</td>\n",
       "      <td>...</td>\n",
       "      <td>...</td>\n",
       "      <td>...</td>\n",
       "    </tr>\n",
       "    <tr>\n",
       "      <th>62</th>\n",
       "      <td>Intern</td>\n",
       "      <td>Intern INT-38C Acoustic Guitar Kit, With Bag, ...</td>\n",
       "      <td>495 ratings</td>\n",
       "      <td>₹1,749.00</td>\n",
       "      <td>https://www.amazon.in/Intern-INT-38C-Acoustic-...</td>\n",
       "    </tr>\n",
       "    <tr>\n",
       "      <th>63</th>\n",
       "      <td>TECHBLAZE</td>\n",
       "      <td>TECHBLAZE Acoustic Guitar Strings, Guitar Wall...</td>\n",
       "      <td>1 rating</td>\n",
       "      <td>-</td>\n",
       "      <td>https://www.amazon.in/TECHBLAZE-Acoustic-Guita...</td>\n",
       "    </tr>\n",
       "    <tr>\n",
       "      <th>64</th>\n",
       "      <td>-</td>\n",
       "      <td>SG Musical Acoustic Guitar Strings | guitar st...</td>\n",
       "      <td>-</td>\n",
       "      <td>-</td>\n",
       "      <td>https://www.amazon.in/SG-Musical-Acoustic-Stri...</td>\n",
       "    </tr>\n",
       "    <tr>\n",
       "      <th>65</th>\n",
       "      <td>-</td>\n",
       "      <td>HEALLILY Guitar Fretboard Stickers Guitar Fret...</td>\n",
       "      <td>-</td>\n",
       "      <td>-</td>\n",
       "      <td>https://www.amazon.in/HEALLILY-Fretboard-Stick...</td>\n",
       "    </tr>\n",
       "    <tr>\n",
       "      <th>66</th>\n",
       "      <td>HRB musicals</td>\n",
       "      <td>HRB MUSICALS combo of guitar String Winder, gu...</td>\n",
       "      <td>7 ratings</td>\n",
       "      <td>-</td>\n",
       "      <td>https://www.amazon.in/gp/slredirect/picassoRed...</td>\n",
       "    </tr>\n",
       "  </tbody>\n",
       "</table>\n",
       "<p>67 rows × 5 columns</p>\n",
       "</div>"
      ],
      "text/plain": [
       "           Brand                                Name of the product  \\\n",
       "0       Honestum  Honestum 4-string acoustic guitar learning kid...   \n",
       "1         Juârez  Juârez Acoustic Guitar, 38 Inch Cutaway, 038C ...   \n",
       "2         Intern  Intern INT-38C Acoustic Guitar Kit, With Bag, ...   \n",
       "3         JUAREZ  Juarez Acoustic Guitar Kit, 38 Inch Cutaway, 3...   \n",
       "4        Kadence  Kadence Guitar Acoustica Series, Electric Acou...   \n",
       "..           ...                                                ...   \n",
       "62        Intern  Intern INT-38C Acoustic Guitar Kit, With Bag, ...   \n",
       "63     TECHBLAZE  TECHBLAZE Acoustic Guitar Strings, Guitar Wall...   \n",
       "64             -  SG Musical Acoustic Guitar Strings | guitar st...   \n",
       "65             -  HEALLILY Guitar Fretboard Stickers Guitar Fret...   \n",
       "66  HRB musicals  HRB MUSICALS combo of guitar String Winder, gu...   \n",
       "\n",
       "   number of ratings price of the item  \\\n",
       "0          3 ratings                 -   \n",
       "1     13,326 ratings         ₹1,999.00   \n",
       "2      7,231 ratings         ₹1,790.00   \n",
       "3      4,486 ratings         ₹1,999.00   \n",
       "4        727 ratings         ₹6,174.00   \n",
       "..               ...               ...   \n",
       "62       495 ratings         ₹1,749.00   \n",
       "63          1 rating                 -   \n",
       "64                 -                 -   \n",
       "65                 -                 -   \n",
       "66         7 ratings                 -   \n",
       "\n",
       "                                      url of the page  \n",
       "0   https://www.amazon.in/gp/slredirect/picassoRed...  \n",
       "1   https://www.amazon.in/Juarez-Acoustic-Cutaway-...  \n",
       "2   https://www.amazon.in/Intern-INT-38C-Acoustic-...  \n",
       "3   https://www.amazon.in/JUAREZ-JRZ38C-Acoustic-S...  \n",
       "4   https://aax-eu.amazon.in/x/c/QpB_2B9ns4Txpv_GE...  \n",
       "..                                                ...  \n",
       "62  https://www.amazon.in/Intern-INT-38C-Acoustic-...  \n",
       "63  https://www.amazon.in/TECHBLAZE-Acoustic-Guita...  \n",
       "64  https://www.amazon.in/SG-Musical-Acoustic-Stri...  \n",
       "65  https://www.amazon.in/HEALLILY-Fretboard-Stick...  \n",
       "66  https://www.amazon.in/gp/slredirect/picassoRed...  \n",
       "\n",
       "[67 rows x 5 columns]"
      ]
     },
     "execution_count": 7,
     "metadata": {},
     "output_type": "execute_result"
    }
   ],
   "source": [
    "# making a dataframe\n",
    "\n",
    "product_page = pd.DataFrame({})\n",
    "\n",
    "product_page['Brand']= brand_name\n",
    "product_page['Name of the product']= product_name\n",
    "product_page['number of ratings']= rating_total\n",
    "product_page['price of the item']= price\n",
    "product_page['url of the page']= urls\n",
    "\n",
    "product_page  #displaying the dataset\n"
   ]
  },
  {
   "cell_type": "code",
   "execution_count": 8,
   "metadata": {},
   "outputs": [],
   "source": [
    "driver.close()"
   ]
  },
  {
   "cell_type": "code",
   "execution_count": null,
   "metadata": {},
   "outputs": [],
   "source": []
  }
 ],
 "metadata": {
  "kernelspec": {
   "display_name": "Python 3",
   "language": "python",
   "name": "python3"
  },
  "language_info": {
   "codemirror_mode": {
    "name": "ipython",
    "version": 3
   },
   "file_extension": ".py",
   "mimetype": "text/x-python",
   "name": "python",
   "nbconvert_exporter": "python",
   "pygments_lexer": "ipython3",
   "version": "3.8.5"
  }
 },
 "nbformat": 4,
 "nbformat_minor": 4
}
